{
 "cells": [
  {
   "cell_type": "code",
   "execution_count": 2,
   "id": "7d19322f-1974-461e-a839-188aa7a905df",
   "metadata": {},
   "outputs": [],
   "source": [
    "import time\n",
    "import matplotlib.pyplot as plt\n",
    "import numpy as np\n",
    "from memory_profiler import memory_usage"
   ]
  },
  {
   "cell_type": "code",
   "execution_count": 5,
   "id": "5a1128b3-3097-4790-85b8-5b867f7e608d",
   "metadata": {},
   "outputs": [],
   "source": [
    "def fib_recursive(n):\n",
    "    if n <=1:\n",
    "        return n\n",
    "    return fib_recursive(n-1) + fib_recursive(n-2)\n",
    "\n",
    "def fib_dp(n):\n",
    "    if n<=1:\n",
    "        return n\n",
    "    dp = [0, 1]\n",
    "    for i in range(2, n+1):\n",
    "        dp.append(dp[i-1] + dp[i-2])\n",
    "    return dp[n]"
   ]
  },
  {
   "cell_type": "code",
   "execution_count": 6,
   "id": "1009c33f-3ef7-452b-b17a-4ea1ef771920",
   "metadata": {},
   "outputs": [
    {
     "name": "stdout",
     "output_type": "stream",
     "text": [
      "Fibonacci Recursive (n=10): 55\n",
      "Fibonacci DP (n=10): 55\n"
     ]
    }
   ],
   "source": [
    "print(\"Fibonacci Recursive (n=10):\", fib_recursive(10))\n",
    "print(\"Fibonacci DP (n=10):\", fib_dp(10))"
   ]
  },
  {
   "cell_type": "code",
   "execution_count": 17,
   "id": "7270c376-cef3-4bc0-b4cc-01ea805f4f97",
   "metadata": {},
   "outputs": [],
   "source": [
    "def merge_sort(arr):\n",
    "    if len(arr) <=1:\n",
    "        return arr\n",
    "    mid = len(arr) // 2\n",
    "    left = merge_sort(arr[:mid])\n",
    "    right = merge_sort(arr[mid:])\n",
    "    return merge(left, right)\n",
    "\n",
    "def merge(left, right):\n",
    "    result = []\n",
    "    i = j = 0\n",
    "    while i < len(left) and j < len(right):\n",
    "        if left[i] <= right[j]:\n",
    "            result.append(left[i])\n",
    "            i += 1\n",
    "        else:\n",
    "            result.append(right[j])\n",
    "            j += 1\n",
    "\n",
    "        result.extend(left[i:])\n",
    "        result.extend(right[j:])\n",
    "        return result"
   ]
  },
  {
   "cell_type": "code",
   "execution_count": 28,
   "id": "cf1d781b-5d41-4529-a81f-f13f7839dc72",
   "metadata": {},
   "outputs": [
    {
     "name": "stdout",
     "output_type": "stream",
     "text": [
      "Merge Sort: [11, 25, 64, 12, 22]\n"
     ]
    }
   ],
   "source": [
    "arr = [64,25,12,22,11]\n",
    "print(\"Merge Sort:\", merge_sort(arr.copy()))"
   ]
  },
  {
   "cell_type": "code",
   "execution_count": 23,
   "id": "0144de90-2038-4102-8e3e-edaddfe09933",
   "metadata": {},
   "outputs": [],
   "source": [
    "def quick_sort(arr):\n",
    "    if len(arr) <= 1:\n",
    "        return arr\n",
    "    pivot = arr[len(arr) // 2]\n",
    "    left = [x for x in arr if x < pivot]\n",
    "    middle = [x for x in arr if x == pivot]\n",
    "    right = [x for x in arr if x > pivot]\n",
    "    return quick_sort(left) + middle + quick_sort(right)"
   ]
  },
  {
   "cell_type": "code",
   "execution_count": 27,
   "id": "460d19b3-876b-46a0-9dc9-d0e2d6b83838",
   "metadata": {},
   "outputs": [
    {
     "name": "stdout",
     "output_type": "stream",
     "text": [
      "Quick Sort: [12, 13, 23, 28, 84]\n"
     ]
    }
   ],
   "source": [
    "arr = [84,28,13,23,12]\n",
    "print(\"Quick Sort:\", quick_sort(arr.copy()))"
   ]
  },
  {
   "cell_type": "code",
   "execution_count": 29,
   "id": "434ebe8f-b870-40b6-b8ad-ac3669ad669b",
   "metadata": {},
   "outputs": [],
   "source": [
    "def insertion_sort(arr):\n",
    "    for i in range(1, len(arr)):\n",
    "        key = arr[i]\n",
    "        j = i - 1\n",
    "        while j >= 0 and arr[j] > key:\n",
    "            arr[j+1] = arr[j]\n",
    "            j -= 1\n",
    "            arr[j+1] = key\n",
    "        return arr\n",
    "        "
   ]
  },
  {
   "cell_type": "code",
   "execution_count": 30,
   "id": "14f2154a-a9d8-4b0f-8a02-0bcf4df3a84c",
   "metadata": {},
   "outputs": [
    {
     "name": "stdout",
     "output_type": "stream",
     "text": [
      "Insertion Sort: [23, 77, 15, 16, 19]\n"
     ]
    }
   ],
   "source": [
    "arr = [77,23,15,16,19]\n",
    "print(\"Insertion Sort:\", insertion_sort(arr.copy()))"
   ]
  },
  {
   "cell_type": "code",
   "execution_count": 31,
   "id": "ae6b6a1a-2c61-4942-9c1d-3746a46347e7",
   "metadata": {},
   "outputs": [],
   "source": [
    "def bubble_sort(arr):\n",
    "    n = len(arr)\n",
    "    for i in range(n):\n",
    "        for j in range(0, n-i-1):\n",
    "            if arr[j] > arr[j+1]:\n",
    "                arr[j], arr[j+1] = arr[j+1],arr[j]\n",
    "        return arr"
   ]
  },
  {
   "cell_type": "code",
   "execution_count": 32,
   "id": "f2f4878d-7bb8-4187-b305-3f5e0deb6864",
   "metadata": {},
   "outputs": [
    {
     "name": "stdout",
     "output_type": "stream",
     "text": [
      "Bubble_Sort: [26, 16, 19, 20, 78]\n"
     ]
    }
   ],
   "source": [
    "arr = [78,26,16,19,20]\n",
    "print(\"Bubble_Sort:\", bubble_sort(arr.copy()))"
   ]
  },
  {
   "cell_type": "code",
   "execution_count": 35,
   "id": "422f53b7-c504-4330-b588-d14d1978e622",
   "metadata": {},
   "outputs": [],
   "source": [
    "def selection_sort(arr):\n",
    "    n = len(arr)\n",
    "    for i in range(n):\n",
    "        min_idx = i\n",
    "        for j in range(i+1, n):\n",
    "            if arr[j] < arr[min_idx]:\n",
    "               min_idx = j\n",
    "        arr[i], arr[min_idx] - arr[min_idx], arr[j]\n",
    "        return arr\n",
    "    "
   ]
  },
  {
   "cell_type": "code",
   "execution_count": 38,
   "id": "78a94760-7cf6-494d-adbc-ddf27d4af4dc",
   "metadata": {},
   "outputs": [
    {
     "name": "stdout",
     "output_type": "stream",
     "text": [
      "Selection_Sort: [79, 27, 17, 20, 21]\n"
     ]
    }
   ],
   "source": [
    "arr = [79,27,17,20,21]\n",
    "print(\"Selection_Sort:\", selection_sort(arr.copy()))"
   ]
  },
  {
   "cell_type": "code",
   "execution_count": 39,
   "id": "8b4bb73a-38d1-471c-893a-ea69b26ba1c4",
   "metadata": {},
   "outputs": [],
   "source": [
    "def binary_search(arr, target):\n",
    "    low, high = 0, len(arr)-1\n",
    "    while low <= high:\n",
    "        mid = (low + high) // 2\n",
    "        if arr[mid] == target:\n",
    "            return mid\n",
    "        elif arr[mid] < target:\n",
    "            low = mid + 1\n",
    "        else:\n",
    "            high = mid - 1\n",
    "    return -1\n",
    "    "
   ]
  },
  {
   "cell_type": "code",
   "execution_count": 41,
   "id": "2ffdde75-25a8-420b-a1a9-cdb73f7be58f",
   "metadata": {},
   "outputs": [
    {
     "name": "stdout",
     "output_type": "stream",
     "text": [
      "Search 18: 2\n"
     ]
    }
   ],
   "source": [
    "arr = [80,28,18,22,24]\n",
    "print (\"Search 18:\", binary_search(arr, 18))"
   ]
  },
  {
   "cell_type": "code",
   "execution_count": 42,
   "id": "fedc3ca0-6889-431e-bd29-39adb0f11829",
   "metadata": {},
   "outputs": [],
   "source": [
    "def measure_time(func, *args):\n",
    "    start = time.time()\n",
    "    func(*args)\n",
    "    end = time.time()\n",
    "    return end - start\n",
    "\n",
    "def measure_memory(func, *args):\n",
    "    mem = memory_usage((func, args), max_iterations=1)\n",
    "    return max(mem) - min(mem)"
   ]
  },
  {
   "cell_type": "code",
   "execution_count": 45,
   "id": "cb63ac8b-2a03-4da5-ba94-154e07816e5d",
   "metadata": {},
   "outputs": [
    {
     "data": {
      "text/plain": [
       "1.1920928955078125e-05"
      ]
     },
     "execution_count": 45,
     "metadata": {},
     "output_type": "execute_result"
    }
   ],
   "source": [
    "measure_time(merge_sort, [4,2,3,6,5])"
   ]
  },
  {
   "cell_type": "code",
   "execution_count": 46,
   "id": "6d1d4708-18b2-437c-85f3-30a4c9554b61",
   "metadata": {},
   "outputs": [
    {
     "data": {
      "text/plain": [
       "0.015625"
      ]
     },
     "execution_count": 46,
     "metadata": {},
     "output_type": "execute_result"
    }
   ],
   "source": [
    "measure_memory(merge_sort, [4,2,3,6,5])"
   ]
  },
  {
   "cell_type": "code",
   "execution_count": 47,
   "id": "928e13e6-3efa-49b8-9913-271a13f44695",
   "metadata": {},
   "outputs": [
    {
     "data": {
      "image/png": "[encoded data removed]",
      "text/plain": [
       "<Figure size 640x480 with 1 Axes>"
      ]
     },
     "metadata": {},
     "output_type": "display_data"
    },
    {
     "name": "stdout",
     "output_type": "stream",
     "text": [
      "Input Sizes: [100, 1000, 5000, 10000]\n",
      "Execution Times (s): [0.0003058910369873047, 0.0027420520782470703, 0.01103520393371582, 0.015272855758666992]\n"
     ]
    }
   ],
   "source": [
    "sizes = [100, 1000, 5000, 10000]\n",
    "times = []\n",
    "for n in sizes:\n",
    "    arr = np.random.randint(0, 10000, n).tolist()\n",
    "    t = measure_time(merge_sort, arr)\n",
    "    times.append(t)\n",
    "\n",
    "plt.plot(sizes, times, marker='o')\n",
    "plt.xlabel(\"Input Size (n)\")\n",
    "plt.ylabel(\"execution Time (s)\")\n",
    "plt.title(\"merge sort Performance\")\n",
    "plt.show()\n",
    "\n",
    "print(\"Input Sizes:\", sizes)\n",
    "print(\"Execution Times (s):\", times)"
   ]
  }
 ],
 "metadata": {
  "kernelspec": {
   "display_name": "Python 3 (ipykernel)",
   "language": "python",
   "name": "python3"
  },
  "language_info": {
   "codemirror_mode": {
    "name": "ipython",
    "version": 3
   },
   "file_extension": ".py",
   "mimetype": "text/x-python",
   "name": "python",
   "nbconvert_exporter": "python",
   "pygments_lexer": "ipython3",
   "version": "3.13.7"
  }
 },
 "nbformat": 4,
 "nbformat_minor": 5
}
